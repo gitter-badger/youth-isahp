{
 "cells": [
  {
   "cell_type": "markdown",
   "metadata": {},
   "source": [
    "# Tutorial on looping and matrices\n",
    "This tutorial guides you through the basics of creating matrices and using loops in python to do basic operations on matrices."
   ]
  },
  {
   "cell_type": "markdown",
   "metadata": {},
   "source": [
    "## 1. Import the needed libraries"
   ]
  },
  {
   "cell_type": "code",
   "execution_count": 1,
   "metadata": {
    "collapsed": true
   },
   "outputs": [],
   "source": [
    "import numpy as np"
   ]
  },
  {
   "cell_type": "markdown",
   "metadata": {},
   "source": [
    "## 2. Start with vectors\n",
    "Vectors are just one dimensional matrices.  In programming we call them arrays.  Here are some examples"
   ]
  },
  {
   "cell_type": "code",
   "execution_count": 4,
   "metadata": {
    "collapsed": false
   },
   "outputs": [
    {
     "name": "stdout",
     "output_type": "stream",
     "text": [
      "[1 3 5]\n",
      "[-1  0  1]\n",
      "[  10.          100.            0.16666667   17.6       ]\n"
     ]
    }
   ],
   "source": [
    "vect1 = np.array([1, 3, 5])\n",
    "vect2 = np.array([-1, 0, 1])\n",
    "vect3 = np.array([10, 100, 1/6., 17.6])\n",
    "print(vect1)\n",
    "print(vect2)\n",
    "print(vect3)"
   ]
  },
  {
   "cell_type": "markdown",
   "metadata": {
    "collapsed": true
   },
   "source": [
    "As you can see, a __vector__ is simply a list of numbers."
   ]
  },
  {
   "cell_type": "markdown",
   "metadata": {},
   "source": [
    "### 2.1 Creating a vector programmatically\n",
    "Let's create the array [1, 4, 9, 25, 36, 49, 64, 81, 100, 121] via code.  This is the list of the squares of numbers from 1 to 11."
   ]
  },
  {
   "cell_type": "code",
   "execution_count": 10,
   "metadata": {
    "collapsed": false
   },
   "outputs": [
    {
     "data": {
      "text/plain": [
       "array([  1,   4,   9,  16,  25,  36,  49,  64,  81, 100, 121])"
      ]
     },
     "execution_count": 10,
     "metadata": {},
     "output_type": "execute_result"
    }
   ],
   "source": [
    "#Create an empty list\n",
    "squares = list()\n",
    "#Now append elements to it\n",
    "for i in range(1, 12):\n",
    "    squares.append(i*i)\n",
    "squares = np.array(squares)\n",
    "squares"
   ]
  },
  {
   "cell_type": "markdown",
   "metadata": {},
   "source": [
    "__NOTE__:  We created a _list_ first, and then created the numpy vector.  The reason for this is the numpy arrays are not designed to grow easily, but lists are.  Thus we created a list first, then created the numpy array."
   ]
  },
  {
   "cell_type": "markdown",
   "metadata": {},
   "source": [
    "### 2.2 Exercises\n",
    "1. Create a vector of the cubes of 1,2,3,...,100\n",
    "2. Create a vector of all 0's.\n",
    "3. Create a vector of all 1's."
   ]
  },
  {
   "cell_type": "code",
   "execution_count": null,
   "metadata": {
    "collapsed": true
   },
   "outputs": [],
   "source": []
  }
 ],
 "metadata": {
  "kernelspec": {
   "display_name": "Python 3",
   "language": "python",
   "name": "python3"
  },
  "language_info": {
   "codemirror_mode": {
    "name": "ipython",
    "version": 3
   },
   "file_extension": ".py",
   "mimetype": "text/x-python",
   "name": "python",
   "nbconvert_exporter": "python",
   "pygments_lexer": "ipython3",
   "version": "3.5.1"
  }
 },
 "nbformat": 4,
 "nbformat_minor": 0
}
