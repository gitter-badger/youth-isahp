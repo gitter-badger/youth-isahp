{
 "cells": [
  {
   "cell_type": "markdown",
   "metadata": {},
   "source": [
    "# ISHAP WorkShop code tutorial \n",
    "First you would want to start off by importing our source code as seen below."
   ]
  },
  {
   "cell_type": "code",
   "execution_count": 16,
   "metadata": {
    "collapsed": false,
    "scrolled": true
   },
   "outputs": [],
   "source": [
    "import commfxs as h\n",
    "import numpy as np\n",
    "from plotly.offline import plot\n",
    "from plotly.offline import download_plotlyjs, init_notebook_mode, iplot\n",
    "import plotly.graph_objs as go\n",
    "init_notebook_mode()"
   ]
  },
  {
   "cell_type": "markdown",
   "metadata": {},
   "source": [
    "## Next you would want to calculate the vector for your excel sheet"
   ]
  },
  {
   "cell_type": "code",
   "execution_count": 2,
   "metadata": {
    "collapsed": false
   },
   "outputs": [
    {
     "data": {
      "text/plain": [
       "array([ 0.17880869,  0.29666912,  0.17972793,  0.34479426])"
      ]
     },
     "execution_count": 2,
     "metadata": {},
     "output_type": "execute_result"
    }
   ],
   "source": [
    "h.single_stats(\"Areas.xlsx\", \"Sarah\")"
   ]
  },
  {
   "cell_type": "code",
   "execution_count": 3,
   "metadata": {
    "collapsed": false
   },
   "outputs": [
    {
     "name": "stderr",
     "output_type": "stream",
     "text": [
      "C:\\Users\\Devin\\Anaconda2\\lib\\site-packages\\openpyxl\\reader\\worksheet.py:322: UserWarning:\n",
      "\n",
      "Unknown extension is not supported and will be removed\n",
      "\n"
     ]
    },
    {
     "data": {
      "text/plain": [
       "array([ 0.24857039,  0.14602988,  0.20131877,  0.19501841,  0.20906255])"
      ]
     },
     "execution_count": 3,
     "metadata": {},
     "output_type": "execute_result"
    }
   ],
   "source": [
    "h.single_stats('Jobs.xlsx', 'Sarah')"
   ]
  },
  {
   "cell_type": "markdown",
   "metadata": {},
   "source": [
    "## Next we are going to make the bar chart"
   ]
  },
  {
   "cell_type": "code",
   "execution_count": 4,
   "metadata": {
    "collapsed": false
   },
   "outputs": [],
   "source": [
    "drews = h.single_stats(\"Areas.xlsx\", \"Drew\")"
   ]
  },
  {
   "cell_type": "code",
   "execution_count": 5,
   "metadata": {
    "collapsed": false
   },
   "outputs": [
    {
     "data": {
      "text/html": [
       "<div id=\"2ee2e66f-dff4-4a75-a62b-01d30fd9caa3\" style=\"height: 525; width: 100%;\" class=\"plotly-graph-div\"></div><script type=\"text/javascript\">require([\"plotly\"], function(Plotly) { window.PLOTLYENV=window.PLOTLYENV || {};window.PLOTLYENV.BASE_URL=\"https://plot.ly\";Plotly.newPlot(\"2ee2e66f-dff4-4a75-a62b-01d30fd9caa3\", [{\"y\": [0.4755591453928438, 0.1775196442817674, 0.26019090774404163, 0.08673030258134719], \"x\": [\"Math\", \"Animals\", \"Library\", \"Kitchen\"], \"type\": \"bar\"}], {\"title\": \"Drew's Priorities\"}, {\"linkText\": \"Export to plot.ly\", \"showLink\": true})});</script>"
      ],
      "text/plain": [
       "<IPython.core.display.HTML object>"
      ]
     },
     "metadata": {},
     "output_type": "display_data"
    }
   ],
   "source": [
    "altnames = h.get_altnames(\"Areas.xlsx\")\n",
    "data = go.Bar(x=[\"Math\", \"Animals\", \"Library\", \"Kitchen\"], y=drews)\n",
    "layout = go.Layout(title = \"Drew's Priorities\")\n",
    "iplot(go.Figure(data = go.Data([data]), layout = layout))"
   ]
  },
  {
   "cell_type": "code",
   "execution_count": 6,
   "metadata": {
    "collapsed": false
   },
   "outputs": [],
   "source": [
    "from openpyxl import load_workbook\n",
    "wb = load_workbook(filename = 'Areas.xlsx')\n",
    "firstsheet = wb.get_sheet_names()[0]\n",
    "sheet = wb.get_sheet_by_name(firstsheet)"
   ]
  },
  {
   "cell_type": "code",
   "execution_count": 8,
   "metadata": {
    "collapsed": false
   },
   "outputs": [
    {
     "data": {
      "text/html": [
       "<div id=\"039530b1-d520-4255-9bcb-3cd115ca9dd1\" style=\"height: 525; width: 100%;\" class=\"plotly-graph-div\"></div><script type=\"text/javascript\">require([\"plotly\"], function(Plotly) { window.PLOTLYENV=window.PLOTLYENV || {};window.PLOTLYENV.BASE_URL=\"https://plot.ly\";Plotly.newPlot(\"039530b1-d520-4255-9bcb-3cd115ca9dd1\", [{\"y\": [0.4755591453928438, 0.1775196442817674, 0.26019090774404163, 0.08673030258134719], \"x\": [\"Math\", \"Animals\", \"Library\", \"Kitchen\"], \"type\": \"bar\"}], {\"title\": \"Drew's Priorities\"}, {\"linkText\": \"Export to plot.ly\", \"showLink\": true})});</script>"
      ],
      "text/plain": [
       "<IPython.core.display.HTML object>"
      ]
     },
     "metadata": {},
     "output_type": "display_data"
    }
   ],
   "source": [
    "drews = h.single_stats(\"Areas.xlsx\", \"Drew\", bars = True)"
   ]
  },
  {
   "cell_type": "code",
   "execution_count": 11,
   "metadata": {
    "collapsed": false
   },
   "outputs": [
    {
     "data": {
      "text/plain": [
       "array([ 0.17880869,  0.29666912,  0.17972793,  0.34479426])"
      ]
     },
     "execution_count": 11,
     "metadata": {},
     "output_type": "execute_result"
    }
   ],
   "source": [
    "h.single_stats(\"Areas.xlsx\", \"Sarah\")"
   ]
  },
  {
   "cell_type": "code",
   "execution_count": 12,
   "metadata": {
    "collapsed": false
   },
   "outputs": [
    {
     "data": {
      "text/plain": [
       "array([ 0.18679959,  0.24011725,  0.39996441,  0.17311876])"
      ]
     },
     "execution_count": 12,
     "metadata": {},
     "output_type": "execute_result"
    }
   ],
   "source": [
    "h.single_stats(\"Areas.xlsx\", \"Sarah\", better = 1./3, muchbetter = 1./9)"
   ]
  },
  {
   "cell_type": "code",
   "execution_count": 17,
   "metadata": {
    "collapsed": false
   },
   "outputs": [
    {
     "data": {
      "text/plain": [
       "array([ 0.75,  0.25])"
      ]
     },
     "execution_count": 17,
     "metadata": {},
     "output_type": "execute_result"
    }
   ],
   "source": [
    "h.Largest_eigen(np.array([[1., 3],[1./3, 1]]))"
   ]
  },
  {
   "cell_type": "code",
   "execution_count": 18,
   "metadata": {
    "collapsed": false
   },
   "outputs": [
    {
     "data": {
      "text/plain": [
       "array([ 0.66666667,  0.22222222,  0.11111111])"
      ]
     },
     "execution_count": 18,
     "metadata": {},
     "output_type": "execute_result"
    }
   ],
   "source": [
    "h.Largest_eigen(np.array([[1., 3, 6],[1./3, 1, 2], [1./6, 1./2, 1]]))"
   ]
  },
  {
   "cell_type": "code",
   "execution_count": null,
   "metadata": {
    "collapsed": true
   },
   "outputs": [],
   "source": []
  }
 ],
 "metadata": {
  "kernelspec": {
   "display_name": "Python 2",
   "language": "python",
   "name": "python2"
  },
  "language_info": {
   "codemirror_mode": {
    "name": "ipython",
    "version": 2
   },
   "file_extension": ".py",
   "mimetype": "text/x-python",
   "name": "python",
   "nbconvert_exporter": "python",
   "pygments_lexer": "ipython2",
   "version": "2.7.11"
  }
 },
 "nbformat": 4,
 "nbformat_minor": 0
}
